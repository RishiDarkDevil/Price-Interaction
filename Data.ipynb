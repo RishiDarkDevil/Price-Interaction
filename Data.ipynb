{
 "cells": [
  {
   "cell_type": "markdown",
   "id": "8f036cf2",
   "metadata": {},
   "source": [
    "### Importing Necessary Libraries"
   ]
  },
  {
   "cell_type": "code",
   "execution_count": 55,
   "id": "c9044777",
   "metadata": {},
   "outputs": [],
   "source": [
    "import pandas as pd\n",
    "from nsepy import get_history\n",
    "from datetime import date\n",
    "from tqdm import tqdm"
   ]
  },
  {
   "cell_type": "markdown",
   "id": "27526f65",
   "metadata": {},
   "source": [
    "## Data"
   ]
  },
  {
   "cell_type": "markdown",
   "id": "deb04cfe",
   "metadata": {},
   "source": [
    "From Date: 2010/01/01 -- 2022/11/11"
   ]
  },
  {
   "cell_type": "code",
   "execution_count": 56,
   "id": "5da58ea9",
   "metadata": {},
   "outputs": [],
   "source": [
    "start_date = date(2010, 1, 1)\n",
    "end_date = date(2022, 11, 11)"
   ]
  },
  {
   "cell_type": "markdown",
   "id": "f29b9c2e",
   "metadata": {},
   "source": [
    "Here we fetch the data from NSE for all the **NIFTY SECTORAL INDICES**:\n",
    "- NIFTY BANK\n",
    "- NIFTY AUTO\n",
    "- NIFTY FIN SERVICE\n",
    "- NIFTY FMCG\n",
    "- NIFTY IT\n",
    "- NIFTY MEDIA\n",
    "- NIFTY METAL\n",
    "- NIFTY PHARMA\n",
    "- NIFTY PSU BANK\n",
    "- NIFTY PVT BANK\n",
    "- NIFTY REALTY\n",
    "\n",
    "Few **NIFTY THEMATIC INDICES**:\n",
    "- NIFTY COMMODITIES\n",
    "- NIFTY CONSUMPTION\n",
    "- NIFTY CPSE\n",
    "- NIFTY ENERGY\n",
    "- NIFTY INFRA\n",
    "- NIFTY100 LIQ 15\n",
    "- NIFTY MID LIQ 15\n",
    "- NIFTY MNC\n",
    "- NIFTY PSE\n",
    "- NIFTY SERV SECTOR\n",
    "\n",
    "Finally some **NIFTY BROAD MARKET INDICES**:\n",
    "- NIFTY 50\n",
    "- NIFTY NEXT 50\n",
    "- NIFTY 100\n",
    "- NIFTY 200\n",
    "- NIFTY 500\n",
    "- INDIA VIX"
   ]
  },
  {
   "cell_type": "code",
   "execution_count": 57,
   "id": "1349c1a8",
   "metadata": {},
   "outputs": [],
   "source": [
    "nifty_sectoral = [\n",
    "  'NIFTY BANK',\n",
    "  'NIFTY AUTO',\n",
    "  'NIFTY FIN SERVICE',\n",
    "  'NIFTY FMCG',\n",
    "  'NIFTY IT',\n",
    "  'NIFTY MEDIA',\n",
    "  'NIFTY METAL',\n",
    "  'NIFTY PHARMA',\n",
    "  'NIFTY PSU BANK',\n",
    "  'NIFTY PVT BANK',\n",
    "  'NIFTY REALTY'\n",
    "]\n",
    "nifty_thematic = [\n",
    "  'NIFTY COMMODITIES',\n",
    "  'NIFTY CONSUMPTION',\n",
    "  'NIFTY CPSE',\n",
    "  'NIFTY ENERGY',\n",
    "  'NIFTY INFRA',\n",
    "  'NIFTY100 LIQ 15',\n",
    "  'NIFTY MID LIQ 15',\n",
    "  'NIFTY MNC',\n",
    "  'NIFTY PSE',\n",
    "  'NIFTY SERV SECTOR'\n",
    "]\n",
    "nifty_overall = [\n",
    "  'NIFTY 50',\n",
    "  'NIFTY NEXT 50',\n",
    "  'NIFTY 100',\n",
    "  'NIFTY 200',\n",
    "  'NIFTY 500',\n",
    "  'INDIA VIX'\n",
    "]"
   ]
  },
  {
   "cell_type": "code",
   "execution_count": 58,
   "id": "79391eec",
   "metadata": {},
   "outputs": [],
   "source": [
    "def extract_data(syms_list):\n",
    "  for sym in tqdm(syms_list):\n",
    "    try:\n",
    "      data = get_history(symbol=sym, start=start_date, end=end_date, index=True)\n",
    "      data.to_csv(f'./Data/{sym}_{start_date.strftime(\"%d-%m-%Y\")}_{end_date.strftime(\"%d-%m-%Y\")}.csv')\n",
    "    except AttributeError:\n",
    "      print(f\"Skipping {sym}...\")\n",
    "      continue"
   ]
  },
  {
   "cell_type": "code",
   "execution_count": 59,
   "id": "8811135a",
   "metadata": {},
   "outputs": [
    {
     "name": "stderr",
     "output_type": "stream",
     "text": [
      "100%|███████████████████████████████████████████| 11/11 [00:35<00:00,  3.21s/it]\n",
      "100%|███████████████████████████████████████████| 10/10 [00:48<00:00,  4.84s/it]\n",
      "100%|█████████████████████████████████████████████| 6/6 [00:28<00:00,  4.67s/it]\n"
     ]
    }
   ],
   "source": [
    "for syms_list in [nifty_sectoral, nifty_thematic, nifty_overall]:\n",
    "  extract_data(syms_list)"
   ]
  },
  {
   "cell_type": "code",
   "execution_count": null,
   "id": "820db5db",
   "metadata": {},
   "outputs": [],
   "source": []
  }
 ],
 "metadata": {
  "kernelspec": {
   "display_name": "Python 3 (ipykernel)",
   "language": "python",
   "name": "python3"
  },
  "language_info": {
   "codemirror_mode": {
    "name": "ipython",
    "version": 3
   },
   "file_extension": ".py",
   "mimetype": "text/x-python",
   "name": "python",
   "nbconvert_exporter": "python",
   "pygments_lexer": "ipython3",
   "version": "3.8.13"
  }
 },
 "nbformat": 4,
 "nbformat_minor": 5
}
